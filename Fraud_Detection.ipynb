{
  "nbformat": 4,
  "nbformat_minor": 0,
  "metadata": {
    "colab": {
      "provenance": []
    },
    "kernelspec": {
      "name": "python3",
      "display_name": "Python 3"
    },
    "language_info": {
      "name": "python"
    }
  },
  "cells": [
    {
      "cell_type": "code",
      "execution_count": null,
      "metadata": {
        "colab": {
          "base_uri": "https://localhost:8080/"
        },
        "id": "rJo3Rr-zWiB1",
        "outputId": "d1afcb2d-92ca-41f0-cefe-208a507fc9ab"
      },
      "outputs": [
        {
          "output_type": "stream",
          "name": "stdout",
          "text": [
            "Drive already mounted at /gdrive; to attempt to forcibly remount, call drive.mount(\"/gdrive\", force_remount=True).\n",
            "/gdrive\n"
          ]
        }
      ],
      "source": [
        "import pandas as pd\n",
        "from sklearn.preprocessing import label_binarize\n",
        "import numpy as np\n",
        "from sklearn.model_selection import train_test_split\n",
        "from sklearn.ensemble import RandomForestClassifier\n",
        "from sklearn.tree import DecisionTreeClassifier\n",
        "from sklearn.model_selection import GridSearchCV\n",
        "from sklearn.model_selection import RandomizedSearchCV\n",
        "from sklearn.model_selection import cross_val_score\n",
        "from sklearn.metrics import classification_report, confusion_matrix\n",
        "from sklearn.ensemble import GradientBoostingClassifier\n",
        "from sklearn.preprocessing import OneHotEncoder\n",
        "from sklearn import metrics #Import scikit-learn metrics module for accuracy calculation\n",
        "\n",
        "import warnings\n",
        "warnings.filterwarnings(\"ignore\")\n",
        "#Please ignore the warnings with version change\n",
        "\n",
        "from google.colab import drive\n",
        "drive.mount('/gdrive')\n",
        "#Change current working directory to gdrive\n",
        "%cd /gdrive"
      ]
    },
    {
      "cell_type": "code",
      "source": [
        "trainfile = r'/gdrive/My Drive/Insurance Fraud - TRAIN-3000.csv'\n",
        "trainData = pd.read_csv(trainfile) #creates a dataframe\n",
        "testfile = r'/gdrive/My Drive/Insurance Fraud -TEST-12900.csv'\n",
        "testData = pd.read_csv(testfile)  #creates a dataframe\n",
        "\n",
        "\n",
        "print(trainData.shape)\n",
        "print(testData.shape)"
      ],
      "metadata": {
        "colab": {
          "base_uri": "https://localhost:8080/"
        },
        "id": "1ObDKxs1XmvW",
        "outputId": "24ab0270-a700-4007-d1dd-3940c10fff78"
      },
      "execution_count": null,
      "outputs": [
        {
          "output_type": "stream",
          "name": "stdout",
          "text": [
            "(2999, 32)\n",
            "(12918, 32)\n"
          ]
        }
      ]
    },
    {
      "cell_type": "code",
      "source": [
        "trainData.info()"
      ],
      "metadata": {
        "colab": {
          "base_uri": "https://localhost:8080/"
        },
        "id": "imd6_DvyYIP7",
        "outputId": "51a53953-5416-43e3-feab-8942bffa3299"
      },
      "execution_count": null,
      "outputs": [
        {
          "output_type": "stream",
          "name": "stdout",
          "text": [
            "<class 'pandas.core.frame.DataFrame'>\n",
            "RangeIndex: 2999 entries, 0 to 2998\n",
            "Data columns (total 32 columns):\n",
            " #   Column                Non-Null Count  Dtype \n",
            "---  ------                --------------  ----- \n",
            " 0   MONTH                 2999 non-null   object\n",
            " 1   WEEKOFMONTH           2999 non-null   int64 \n",
            " 2   DAYOFWEEK             2999 non-null   object\n",
            " 3   MAKE                  2999 non-null   object\n",
            " 4   ACCIDENTAREA          2999 non-null   object\n",
            " 5   DAYOFWEEKCLAIMED      2999 non-null   object\n",
            " 6   MONTHCLAIMED          2999 non-null   object\n",
            " 7   WEEKOFMONTHCLAIMED    2999 non-null   int64 \n",
            " 8   SEX                   2999 non-null   object\n",
            " 9   MARITALSTATUS         2999 non-null   object\n",
            " 10  AGE                   2999 non-null   int64 \n",
            " 11  FAULT                 2999 non-null   object\n",
            " 12  POLICYTYPE            2999 non-null   object\n",
            " 13  VEHICLECATEGORY       2999 non-null   object\n",
            " 14  VEHICLEPRICE          2999 non-null   object\n",
            " 15  REPNUMBER             2999 non-null   int64 \n",
            " 16  DEDUCTIBLE            2999 non-null   int64 \n",
            " 17  DRIVERRATING          2999 non-null   int64 \n",
            " 18  DAYS_POLICY_ACCIDENT  2999 non-null   object\n",
            " 19  DAYS_POLICY_CLAIM     2999 non-null   object\n",
            " 20  PASTNUMBEROFCLAIMS    2999 non-null   object\n",
            " 21  AGEOFVEHICLE          2999 non-null   object\n",
            " 22  AGEOFPOLICYHOLDER     2999 non-null   object\n",
            " 23  POLICEREPORTFILED     2999 non-null   object\n",
            " 24  WITNESSPRESENT        2999 non-null   object\n",
            " 25  AGENTTYPE             2999 non-null   object\n",
            " 26  NUMBEROFSUPPLIMENTS   2999 non-null   object\n",
            " 27  ADDRESSCHANGE_CLAIM   2999 non-null   object\n",
            " 28  NUMBEROFCARS          2999 non-null   object\n",
            " 29  YEAR                  2999 non-null   int64 \n",
            " 30  BASEPOLICY            2999 non-null   object\n",
            " 31  FRAUDFOUND            2999 non-null   object\n",
            "dtypes: int64(7), object(25)\n",
            "memory usage: 749.9+ KB\n"
          ]
        }
      ]
    },
    {
      "cell_type": "code",
      "source": [
        "testData.info()"
      ],
      "metadata": {
        "colab": {
          "base_uri": "https://localhost:8080/"
        },
        "id": "zEMk1_PkYbJS",
        "outputId": "80275ff7-6e27-4b8a-ebd0-441202924d54"
      },
      "execution_count": null,
      "outputs": [
        {
          "output_type": "stream",
          "name": "stdout",
          "text": [
            "<class 'pandas.core.frame.DataFrame'>\n",
            "RangeIndex: 12918 entries, 0 to 12917\n",
            "Data columns (total 32 columns):\n",
            " #   Column                Non-Null Count  Dtype \n",
            "---  ------                --------------  ----- \n",
            " 0   MONTH                 12918 non-null  object\n",
            " 1   WEEKOFMONTH           12918 non-null  int64 \n",
            " 2   DAYOFWEEK             12918 non-null  object\n",
            " 3   MAKE                  12918 non-null  object\n",
            " 4   ACCIDENTAREA          12918 non-null  object\n",
            " 5   DAYOFWEEKCLAIMED      12918 non-null  object\n",
            " 6   MONTHCLAIMED          12918 non-null  object\n",
            " 7   WEEKOFMONTHCLAIMED    12918 non-null  int64 \n",
            " 8   SEX                   12918 non-null  object\n",
            " 9   MARITALSTATUS         12918 non-null  object\n",
            " 10  AGE                   12918 non-null  int64 \n",
            " 11  FAULT                 12918 non-null  object\n",
            " 12  POLICYTYPE            12918 non-null  object\n",
            " 13  VEHICLECATEGORY       12918 non-null  object\n",
            " 14  VEHICLEPRICE          12918 non-null  object\n",
            " 15  REPNUMBER             12918 non-null  int64 \n",
            " 16  DEDUCTIBLE            12918 non-null  int64 \n",
            " 17  DRIVERRATING          12918 non-null  int64 \n",
            " 18  DAYS_POLICY_ACCIDENT  12918 non-null  object\n",
            " 19  DAYS_POLICY_CLAIM     12918 non-null  object\n",
            " 20  PASTNUMBEROFCLAIMS    12918 non-null  object\n",
            " 21  AGEOFVEHICLE          12918 non-null  object\n",
            " 22  AGEOFPOLICYHOLDER     12918 non-null  object\n",
            " 23  POLICEREPORTFILED     12918 non-null  object\n",
            " 24  WITNESSPRESENT        12918 non-null  object\n",
            " 25  AGENTTYPE             12918 non-null  object\n",
            " 26  NUMBEROFSUPPLIMENTS   12918 non-null  object\n",
            " 27  ADDRESSCHANGE_CLAIM   12918 non-null  object\n",
            " 28  NUMBEROFCARS          12918 non-null  object\n",
            " 29  YEAR                  12918 non-null  int64 \n",
            " 30  BASEPOLICY            12918 non-null  object\n",
            " 31  FRAUDFOUND            12918 non-null  object\n",
            "dtypes: int64(7), object(25)\n",
            "memory usage: 3.2+ MB\n"
          ]
        }
      ]
    },
    {
      "cell_type": "code",
      "source": [
        "TrainCols = list(trainData.columns.values)\n",
        "TestCols = list(testData.columns.values)\n",
        "print(TrainCols)\n",
        "print(TestCols)"
      ],
      "metadata": {
        "colab": {
          "base_uri": "https://localhost:8080/"
        },
        "id": "lzDVVdrXYe5A",
        "outputId": "6dcff303-eed1-4933-f9e4-75d1830184ae"
      },
      "execution_count": null,
      "outputs": [
        {
          "output_type": "stream",
          "name": "stdout",
          "text": [
            "['MONTH', 'WEEKOFMONTH', 'DAYOFWEEK', 'MAKE', 'ACCIDENTAREA', 'DAYOFWEEKCLAIMED', 'MONTHCLAIMED', 'WEEKOFMONTHCLAIMED', 'SEX', 'MARITALSTATUS', 'AGE', 'FAULT', 'POLICYTYPE', 'VEHICLECATEGORY', 'VEHICLEPRICE', 'REPNUMBER', 'DEDUCTIBLE', 'DRIVERRATING', 'DAYS_POLICY_ACCIDENT', 'DAYS_POLICY_CLAIM', 'PASTNUMBEROFCLAIMS', 'AGEOFVEHICLE', 'AGEOFPOLICYHOLDER', 'POLICEREPORTFILED', 'WITNESSPRESENT', 'AGENTTYPE', 'NUMBEROFSUPPLIMENTS', 'ADDRESSCHANGE_CLAIM', 'NUMBEROFCARS', 'YEAR', 'BASEPOLICY', 'FRAUDFOUND']\n",
            "['MONTH', 'WEEKOFMONTH', 'DAYOFWEEK', 'MAKE', 'ACCIDENTAREA', 'DAYOFWEEKCLAIMED', 'MONTHCLAIMED', 'WEEKOFMONTHCLAIMED', 'SEX', 'MARITALSTATUS', 'AGE', 'FAULT', 'POLICYTYPE', 'VEHICLECATEGORY', 'VEHICLEPRICE', 'REPNUMBER', 'DEDUCTIBLE', 'DRIVERRATING', 'DAYS_POLICY_ACCIDENT', 'DAYS_POLICY_CLAIM', 'PASTNUMBEROFCLAIMS', 'AGEOFVEHICLE', 'AGEOFPOLICYHOLDER', 'POLICEREPORTFILED', 'WITNESSPRESENT', 'AGENTTYPE', 'NUMBEROFSUPPLIMENTS', 'ADDRESSCHANGE_CLAIM', 'NUMBEROFCARS', 'YEAR', 'BASEPOLICY', 'FRAUDFOUND']\n"
          ]
        }
      ]
    },
    {
      "cell_type": "code",
      "source": [
        "Xtrain = trainData[TrainCols[0:len(TrainCols)-1]].copy()\n",
        "Ytrain = trainData[['FRAUDFOUND']].copy()\n",
        "print(\"Train Set shape:\")\n",
        "print(Xtrain.shape)\n",
        "print(Ytrain.shape)\n",
        "Xtest = testData[TestCols[0:len(TestCols)-1]].copy()\n",
        "Ytest = testData[['FRAUDFOUND']].copy()\n",
        "print(\"Test Set shape:\")\n",
        "print(Xtest.shape)\n",
        "print(Ytest.shape)"
      ],
      "metadata": {
        "colab": {
          "base_uri": "https://localhost:8080/"
        },
        "id": "rURKmgiLYrmX",
        "outputId": "f03017b4-6b96-4520-de67-fd3467bbe308"
      },
      "execution_count": null,
      "outputs": [
        {
          "output_type": "stream",
          "name": "stdout",
          "text": [
            "Train Set shape:\n",
            "(2999, 31)\n",
            "(2999, 1)\n",
            "Test Set shape:\n",
            "(12918, 31)\n",
            "(12918, 1)\n"
          ]
        }
      ]
    },
    {
      "cell_type": "code",
      "source": [
        "categoricalFeatures = ['MONTH', 'DAYOFWEEK', 'MAKE', 'ACCIDENTAREA', 'DAYOFWEEKCLAIMED', 'MONTHCLAIMED', 'SEX', 'MARITALSTATUS', 'FAULT', 'POLICYTYPE', 'VEHICLECATEGORY', 'VEHICLEPRICE', 'DAYS_POLICY_ACCIDENT', 'DAYS_POLICY_CLAIM', 'PASTNUMBEROFCLAIMS', 'AGEOFVEHICLE', 'AGEOFPOLICYHOLDER', 'POLICEREPORTFILED', 'WITNESSPRESENT', 'AGENTTYPE', 'NUMBEROFSUPPLIMENTS', 'ADDRESSCHANGE_CLAIM', 'NUMBEROFCARS', 'BASEPOLICY']"
      ],
      "metadata": {
        "id": "DG3KW8JjY2OA"
      },
      "execution_count": null,
      "outputs": []
    },
    {
      "cell_type": "code",
      "source": [
        "ohe = OneHotEncoder(handle_unknown='ignore',sparse=False)\n",
        "Xcat = pd.DataFrame(ohe.fit_transform(Xtrain[categoricalFeatures]),columns=ohe.get_feature_names(),index=Xtrain.index)\n",
        "Xtrain = pd.concat([Xtrain,Xcat],axis=1)\n",
        "Xtrain.drop(labels=categoricalFeatures,axis=1,inplace=True)\n",
        "Xtrain.sample(5)"
      ],
      "metadata": {
        "colab": {
          "base_uri": "https://localhost:8080/",
          "height": 317
        },
        "id": "NYQ3yEzGdork",
        "outputId": "16fe89d6-726d-4ae3-e319-75da214c97ac"
      },
      "execution_count": null,
      "outputs": [
        {
          "output_type": "execute_result",
          "data": {
            "text/plain": [
              "      WEEKOFMONTH  WEEKOFMONTHCLAIMED  AGE  REPNUMBER  DEDUCTIBLE  \\\n",
              "473             3                   3   29          1         400   \n",
              "2115            2                   2   46         12         400   \n",
              "708             4                   1    0         11         400   \n",
              "1022            3                   5   47          8         400   \n",
              "2543            2                   2   34         15         400   \n",
              "\n",
              "      DRIVERRATING  YEAR  x0_Apr  x0_Aug  x0_Dec  ...  x21_4_to_8_years  \\\n",
              "473              2  1994     0.0     0.0     0.0  ...               0.0   \n",
              "2115             3  1995     0.0     0.0     0.0  ...               0.0   \n",
              "708              4  1995     0.0     0.0     0.0  ...               1.0   \n",
              "1022             1  1995     0.0     0.0     0.0  ...               0.0   \n",
              "2543             1  1996     0.0     0.0     0.0  ...               0.0   \n",
              "\n",
              "      x21_no_change  x21_under_6_months  x22_1-vehicle  x22_2-vehicles  \\\n",
              "473             1.0                 0.0            1.0             0.0   \n",
              "2115            1.0                 0.0            1.0             0.0   \n",
              "708             0.0                 0.0            0.0             1.0   \n",
              "1022            1.0                 0.0            1.0             0.0   \n",
              "2543            1.0                 0.0            1.0             0.0   \n",
              "\n",
              "      x22_3_to_4  x22_5_to_8  x23_All_Perils  x23_Collision  x23_Liability  \n",
              "473          0.0         0.0             0.0            0.0            1.0  \n",
              "2115         0.0         0.0             1.0            0.0            0.0  \n",
              "708          0.0         0.0             1.0            0.0            0.0  \n",
              "1022         0.0         0.0             0.0            0.0            1.0  \n",
              "2543         0.0         0.0             1.0            0.0            0.0  \n",
              "\n",
              "[5 rows x 139 columns]"
            ],
            "text/html": [
              "\n",
              "  <div id=\"df-a2f5eae1-72ed-43ed-b24e-3d3b92c46902\">\n",
              "    <div class=\"colab-df-container\">\n",
              "      <div>\n",
              "<style scoped>\n",
              "    .dataframe tbody tr th:only-of-type {\n",
              "        vertical-align: middle;\n",
              "    }\n",
              "\n",
              "    .dataframe tbody tr th {\n",
              "        vertical-align: top;\n",
              "    }\n",
              "\n",
              "    .dataframe thead th {\n",
              "        text-align: right;\n",
              "    }\n",
              "</style>\n",
              "<table border=\"1\" class=\"dataframe\">\n",
              "  <thead>\n",
              "    <tr style=\"text-align: right;\">\n",
              "      <th></th>\n",
              "      <th>WEEKOFMONTH</th>\n",
              "      <th>WEEKOFMONTHCLAIMED</th>\n",
              "      <th>AGE</th>\n",
              "      <th>REPNUMBER</th>\n",
              "      <th>DEDUCTIBLE</th>\n",
              "      <th>DRIVERRATING</th>\n",
              "      <th>YEAR</th>\n",
              "      <th>x0_Apr</th>\n",
              "      <th>x0_Aug</th>\n",
              "      <th>x0_Dec</th>\n",
              "      <th>...</th>\n",
              "      <th>x21_4_to_8_years</th>\n",
              "      <th>x21_no_change</th>\n",
              "      <th>x21_under_6_months</th>\n",
              "      <th>x22_1-vehicle</th>\n",
              "      <th>x22_2-vehicles</th>\n",
              "      <th>x22_3_to_4</th>\n",
              "      <th>x22_5_to_8</th>\n",
              "      <th>x23_All_Perils</th>\n",
              "      <th>x23_Collision</th>\n",
              "      <th>x23_Liability</th>\n",
              "    </tr>\n",
              "  </thead>\n",
              "  <tbody>\n",
              "    <tr>\n",
              "      <th>473</th>\n",
              "      <td>3</td>\n",
              "      <td>3</td>\n",
              "      <td>29</td>\n",
              "      <td>1</td>\n",
              "      <td>400</td>\n",
              "      <td>2</td>\n",
              "      <td>1994</td>\n",
              "      <td>0.0</td>\n",
              "      <td>0.0</td>\n",
              "      <td>0.0</td>\n",
              "      <td>...</td>\n",
              "      <td>0.0</td>\n",
              "      <td>1.0</td>\n",
              "      <td>0.0</td>\n",
              "      <td>1.0</td>\n",
              "      <td>0.0</td>\n",
              "      <td>0.0</td>\n",
              "      <td>0.0</td>\n",
              "      <td>0.0</td>\n",
              "      <td>0.0</td>\n",
              "      <td>1.0</td>\n",
              "    </tr>\n",
              "    <tr>\n",
              "      <th>2115</th>\n",
              "      <td>2</td>\n",
              "      <td>2</td>\n",
              "      <td>46</td>\n",
              "      <td>12</td>\n",
              "      <td>400</td>\n",
              "      <td>3</td>\n",
              "      <td>1995</td>\n",
              "      <td>0.0</td>\n",
              "      <td>0.0</td>\n",
              "      <td>0.0</td>\n",
              "      <td>...</td>\n",
              "      <td>0.0</td>\n",
              "      <td>1.0</td>\n",
              "      <td>0.0</td>\n",
              "      <td>1.0</td>\n",
              "      <td>0.0</td>\n",
              "      <td>0.0</td>\n",
              "      <td>0.0</td>\n",
              "      <td>1.0</td>\n",
              "      <td>0.0</td>\n",
              "      <td>0.0</td>\n",
              "    </tr>\n",
              "    <tr>\n",
              "      <th>708</th>\n",
              "      <td>4</td>\n",
              "      <td>1</td>\n",
              "      <td>0</td>\n",
              "      <td>11</td>\n",
              "      <td>400</td>\n",
              "      <td>4</td>\n",
              "      <td>1995</td>\n",
              "      <td>0.0</td>\n",
              "      <td>0.0</td>\n",
              "      <td>0.0</td>\n",
              "      <td>...</td>\n",
              "      <td>1.0</td>\n",
              "      <td>0.0</td>\n",
              "      <td>0.0</td>\n",
              "      <td>0.0</td>\n",
              "      <td>1.0</td>\n",
              "      <td>0.0</td>\n",
              "      <td>0.0</td>\n",
              "      <td>1.0</td>\n",
              "      <td>0.0</td>\n",
              "      <td>0.0</td>\n",
              "    </tr>\n",
              "    <tr>\n",
              "      <th>1022</th>\n",
              "      <td>3</td>\n",
              "      <td>5</td>\n",
              "      <td>47</td>\n",
              "      <td>8</td>\n",
              "      <td>400</td>\n",
              "      <td>1</td>\n",
              "      <td>1995</td>\n",
              "      <td>0.0</td>\n",
              "      <td>0.0</td>\n",
              "      <td>0.0</td>\n",
              "      <td>...</td>\n",
              "      <td>0.0</td>\n",
              "      <td>1.0</td>\n",
              "      <td>0.0</td>\n",
              "      <td>1.0</td>\n",
              "      <td>0.0</td>\n",
              "      <td>0.0</td>\n",
              "      <td>0.0</td>\n",
              "      <td>0.0</td>\n",
              "      <td>0.0</td>\n",
              "      <td>1.0</td>\n",
              "    </tr>\n",
              "    <tr>\n",
              "      <th>2543</th>\n",
              "      <td>2</td>\n",
              "      <td>2</td>\n",
              "      <td>34</td>\n",
              "      <td>15</td>\n",
              "      <td>400</td>\n",
              "      <td>1</td>\n",
              "      <td>1996</td>\n",
              "      <td>0.0</td>\n",
              "      <td>0.0</td>\n",
              "      <td>0.0</td>\n",
              "      <td>...</td>\n",
              "      <td>0.0</td>\n",
              "      <td>1.0</td>\n",
              "      <td>0.0</td>\n",
              "      <td>1.0</td>\n",
              "      <td>0.0</td>\n",
              "      <td>0.0</td>\n",
              "      <td>0.0</td>\n",
              "      <td>1.0</td>\n",
              "      <td>0.0</td>\n",
              "      <td>0.0</td>\n",
              "    </tr>\n",
              "  </tbody>\n",
              "</table>\n",
              "<p>5 rows × 139 columns</p>\n",
              "</div>\n",
              "      <button class=\"colab-df-convert\" onclick=\"convertToInteractive('df-a2f5eae1-72ed-43ed-b24e-3d3b92c46902')\"\n",
              "              title=\"Convert this dataframe to an interactive table.\"\n",
              "              style=\"display:none;\">\n",
              "        \n",
              "  <svg xmlns=\"http://www.w3.org/2000/svg\" height=\"24px\"viewBox=\"0 0 24 24\"\n",
              "       width=\"24px\">\n",
              "    <path d=\"M0 0h24v24H0V0z\" fill=\"none\"/>\n",
              "    <path d=\"M18.56 5.44l.94 2.06.94-2.06 2.06-.94-2.06-.94-.94-2.06-.94 2.06-2.06.94zm-11 1L8.5 8.5l.94-2.06 2.06-.94-2.06-.94L8.5 2.5l-.94 2.06-2.06.94zm10 10l.94 2.06.94-2.06 2.06-.94-2.06-.94-.94-2.06-.94 2.06-2.06.94z\"/><path d=\"M17.41 7.96l-1.37-1.37c-.4-.4-.92-.59-1.43-.59-.52 0-1.04.2-1.43.59L10.3 9.45l-7.72 7.72c-.78.78-.78 2.05 0 2.83L4 21.41c.39.39.9.59 1.41.59.51 0 1.02-.2 1.41-.59l7.78-7.78 2.81-2.81c.8-.78.8-2.07 0-2.86zM5.41 20L4 18.59l7.72-7.72 1.47 1.35L5.41 20z\"/>\n",
              "  </svg>\n",
              "      </button>\n",
              "      \n",
              "  <style>\n",
              "    .colab-df-container {\n",
              "      display:flex;\n",
              "      flex-wrap:wrap;\n",
              "      gap: 12px;\n",
              "    }\n",
              "\n",
              "    .colab-df-convert {\n",
              "      background-color: #E8F0FE;\n",
              "      border: none;\n",
              "      border-radius: 50%;\n",
              "      cursor: pointer;\n",
              "      display: none;\n",
              "      fill: #1967D2;\n",
              "      height: 32px;\n",
              "      padding: 0 0 0 0;\n",
              "      width: 32px;\n",
              "    }\n",
              "\n",
              "    .colab-df-convert:hover {\n",
              "      background-color: #E2EBFA;\n",
              "      box-shadow: 0px 1px 2px rgba(60, 64, 67, 0.3), 0px 1px 3px 1px rgba(60, 64, 67, 0.15);\n",
              "      fill: #174EA6;\n",
              "    }\n",
              "\n",
              "    [theme=dark] .colab-df-convert {\n",
              "      background-color: #3B4455;\n",
              "      fill: #D2E3FC;\n",
              "    }\n",
              "\n",
              "    [theme=dark] .colab-df-convert:hover {\n",
              "      background-color: #434B5C;\n",
              "      box-shadow: 0px 1px 3px 1px rgba(0, 0, 0, 0.15);\n",
              "      filter: drop-shadow(0px 1px 2px rgba(0, 0, 0, 0.3));\n",
              "      fill: #FFFFFF;\n",
              "    }\n",
              "  </style>\n",
              "\n",
              "      <script>\n",
              "        const buttonEl =\n",
              "          document.querySelector('#df-a2f5eae1-72ed-43ed-b24e-3d3b92c46902 button.colab-df-convert');\n",
              "        buttonEl.style.display =\n",
              "          google.colab.kernel.accessAllowed ? 'block' : 'none';\n",
              "\n",
              "        async function convertToInteractive(key) {\n",
              "          const element = document.querySelector('#df-a2f5eae1-72ed-43ed-b24e-3d3b92c46902');\n",
              "          const dataTable =\n",
              "            await google.colab.kernel.invokeFunction('convertToInteractive',\n",
              "                                                     [key], {});\n",
              "          if (!dataTable) return;\n",
              "\n",
              "          const docLinkHtml = 'Like what you see? Visit the ' +\n",
              "            '<a target=\"_blank\" href=https://colab.research.google.com/notebooks/data_table.ipynb>data table notebook</a>'\n",
              "            + ' to learn more about interactive tables.';\n",
              "          element.innerHTML = '';\n",
              "          dataTable['output_type'] = 'display_data';\n",
              "          await google.colab.output.renderOutput(dataTable, element);\n",
              "          const docLink = document.createElement('div');\n",
              "          docLink.innerHTML = docLinkHtml;\n",
              "          element.appendChild(docLink);\n",
              "        }\n",
              "      </script>\n",
              "    </div>\n",
              "  </div>\n",
              "  "
            ]
          },
          "metadata": {},
          "execution_count": 36
        }
      ]
    },
    {
      "cell_type": "code",
      "source": [
        "Xcat = pd.DataFrame(ohe.transform(Xtest[categoricalFeatures]),columns=ohe.get_feature_names(),index=Xtest.index)\n",
        "Xtest = pd.concat([Xtest,Xcat],axis=1)\n",
        "Xtest.drop(labels=categoricalFeatures,axis=1,inplace=True)\n",
        "print(Xtest.shape)\n",
        "print(Ytest.shape)\n",
        "Xtest.sample(5)"
      ],
      "metadata": {
        "colab": {
          "base_uri": "https://localhost:8080/",
          "height": 352
        },
        "id": "oMFuYzI5h2yV",
        "outputId": "74197fd8-9d22-4ff0-f13b-871d392f30b6"
      },
      "execution_count": null,
      "outputs": [
        {
          "output_type": "stream",
          "name": "stdout",
          "text": [
            "(12918, 139)\n",
            "(12918, 1)\n"
          ]
        },
        {
          "output_type": "execute_result",
          "data": {
            "text/plain": [
              "       WEEKOFMONTH  WEEKOFMONTHCLAIMED  AGE  REPNUMBER  DEDUCTIBLE  \\\n",
              "5789             3                   4   39          2         400   \n",
              "9926             1                   2   48          6         400   \n",
              "10918            3                   3   52         13         400   \n",
              "8288             4                   2   28          1         400   \n",
              "3793             5                   1   30         12         400   \n",
              "\n",
              "       DRIVERRATING  YEAR  x0_Apr  x0_Aug  x0_Dec  ...  x21_4_to_8_years  \\\n",
              "5789              4  1995     0.0     0.0     0.0  ...               0.0   \n",
              "9926              1  1995     0.0     0.0     0.0  ...               0.0   \n",
              "10918             2  1995     0.0     0.0     0.0  ...               0.0   \n",
              "8288              2  1994     0.0     0.0     0.0  ...               0.0   \n",
              "3793              2  1995     0.0     0.0     0.0  ...               0.0   \n",
              "\n",
              "       x21_no_change  x21_under_6_months  x22_1-vehicle  x22_2-vehicles  \\\n",
              "5789             1.0                 0.0            1.0             0.0   \n",
              "9926             1.0                 0.0            1.0             0.0   \n",
              "10918            1.0                 0.0            1.0             0.0   \n",
              "8288             1.0                 0.0            1.0             0.0   \n",
              "3793             1.0                 0.0            1.0             0.0   \n",
              "\n",
              "       x22_3_to_4  x22_5_to_8  x23_All_Perils  x23_Collision  x23_Liability  \n",
              "5789          0.0         0.0             0.0            1.0            0.0  \n",
              "9926          0.0         0.0             1.0            0.0            0.0  \n",
              "10918         0.0         0.0             0.0            0.0            1.0  \n",
              "8288          0.0         0.0             1.0            0.0            0.0  \n",
              "3793          0.0         0.0             0.0            0.0            1.0  \n",
              "\n",
              "[5 rows x 139 columns]"
            ],
            "text/html": [
              "\n",
              "  <div id=\"df-92afe986-fe5b-4c76-aa84-d3c350f50f56\">\n",
              "    <div class=\"colab-df-container\">\n",
              "      <div>\n",
              "<style scoped>\n",
              "    .dataframe tbody tr th:only-of-type {\n",
              "        vertical-align: middle;\n",
              "    }\n",
              "\n",
              "    .dataframe tbody tr th {\n",
              "        vertical-align: top;\n",
              "    }\n",
              "\n",
              "    .dataframe thead th {\n",
              "        text-align: right;\n",
              "    }\n",
              "</style>\n",
              "<table border=\"1\" class=\"dataframe\">\n",
              "  <thead>\n",
              "    <tr style=\"text-align: right;\">\n",
              "      <th></th>\n",
              "      <th>WEEKOFMONTH</th>\n",
              "      <th>WEEKOFMONTHCLAIMED</th>\n",
              "      <th>AGE</th>\n",
              "      <th>REPNUMBER</th>\n",
              "      <th>DEDUCTIBLE</th>\n",
              "      <th>DRIVERRATING</th>\n",
              "      <th>YEAR</th>\n",
              "      <th>x0_Apr</th>\n",
              "      <th>x0_Aug</th>\n",
              "      <th>x0_Dec</th>\n",
              "      <th>...</th>\n",
              "      <th>x21_4_to_8_years</th>\n",
              "      <th>x21_no_change</th>\n",
              "      <th>x21_under_6_months</th>\n",
              "      <th>x22_1-vehicle</th>\n",
              "      <th>x22_2-vehicles</th>\n",
              "      <th>x22_3_to_4</th>\n",
              "      <th>x22_5_to_8</th>\n",
              "      <th>x23_All_Perils</th>\n",
              "      <th>x23_Collision</th>\n",
              "      <th>x23_Liability</th>\n",
              "    </tr>\n",
              "  </thead>\n",
              "  <tbody>\n",
              "    <tr>\n",
              "      <th>5789</th>\n",
              "      <td>3</td>\n",
              "      <td>4</td>\n",
              "      <td>39</td>\n",
              "      <td>2</td>\n",
              "      <td>400</td>\n",
              "      <td>4</td>\n",
              "      <td>1995</td>\n",
              "      <td>0.0</td>\n",
              "      <td>0.0</td>\n",
              "      <td>0.0</td>\n",
              "      <td>...</td>\n",
              "      <td>0.0</td>\n",
              "      <td>1.0</td>\n",
              "      <td>0.0</td>\n",
              "      <td>1.0</td>\n",
              "      <td>0.0</td>\n",
              "      <td>0.0</td>\n",
              "      <td>0.0</td>\n",
              "      <td>0.0</td>\n",
              "      <td>1.0</td>\n",
              "      <td>0.0</td>\n",
              "    </tr>\n",
              "    <tr>\n",
              "      <th>9926</th>\n",
              "      <td>1</td>\n",
              "      <td>2</td>\n",
              "      <td>48</td>\n",
              "      <td>6</td>\n",
              "      <td>400</td>\n",
              "      <td>1</td>\n",
              "      <td>1995</td>\n",
              "      <td>0.0</td>\n",
              "      <td>0.0</td>\n",
              "      <td>0.0</td>\n",
              "      <td>...</td>\n",
              "      <td>0.0</td>\n",
              "      <td>1.0</td>\n",
              "      <td>0.0</td>\n",
              "      <td>1.0</td>\n",
              "      <td>0.0</td>\n",
              "      <td>0.0</td>\n",
              "      <td>0.0</td>\n",
              "      <td>1.0</td>\n",
              "      <td>0.0</td>\n",
              "      <td>0.0</td>\n",
              "    </tr>\n",
              "    <tr>\n",
              "      <th>10918</th>\n",
              "      <td>3</td>\n",
              "      <td>3</td>\n",
              "      <td>52</td>\n",
              "      <td>13</td>\n",
              "      <td>400</td>\n",
              "      <td>2</td>\n",
              "      <td>1995</td>\n",
              "      <td>0.0</td>\n",
              "      <td>0.0</td>\n",
              "      <td>0.0</td>\n",
              "      <td>...</td>\n",
              "      <td>0.0</td>\n",
              "      <td>1.0</td>\n",
              "      <td>0.0</td>\n",
              "      <td>1.0</td>\n",
              "      <td>0.0</td>\n",
              "      <td>0.0</td>\n",
              "      <td>0.0</td>\n",
              "      <td>0.0</td>\n",
              "      <td>0.0</td>\n",
              "      <td>1.0</td>\n",
              "    </tr>\n",
              "    <tr>\n",
              "      <th>8288</th>\n",
              "      <td>4</td>\n",
              "      <td>2</td>\n",
              "      <td>28</td>\n",
              "      <td>1</td>\n",
              "      <td>400</td>\n",
              "      <td>2</td>\n",
              "      <td>1994</td>\n",
              "      <td>0.0</td>\n",
              "      <td>0.0</td>\n",
              "      <td>0.0</td>\n",
              "      <td>...</td>\n",
              "      <td>0.0</td>\n",
              "      <td>1.0</td>\n",
              "      <td>0.0</td>\n",
              "      <td>1.0</td>\n",
              "      <td>0.0</td>\n",
              "      <td>0.0</td>\n",
              "      <td>0.0</td>\n",
              "      <td>1.0</td>\n",
              "      <td>0.0</td>\n",
              "      <td>0.0</td>\n",
              "    </tr>\n",
              "    <tr>\n",
              "      <th>3793</th>\n",
              "      <td>5</td>\n",
              "      <td>1</td>\n",
              "      <td>30</td>\n",
              "      <td>12</td>\n",
              "      <td>400</td>\n",
              "      <td>2</td>\n",
              "      <td>1995</td>\n",
              "      <td>0.0</td>\n",
              "      <td>0.0</td>\n",
              "      <td>0.0</td>\n",
              "      <td>...</td>\n",
              "      <td>0.0</td>\n",
              "      <td>1.0</td>\n",
              "      <td>0.0</td>\n",
              "      <td>1.0</td>\n",
              "      <td>0.0</td>\n",
              "      <td>0.0</td>\n",
              "      <td>0.0</td>\n",
              "      <td>0.0</td>\n",
              "      <td>0.0</td>\n",
              "      <td>1.0</td>\n",
              "    </tr>\n",
              "  </tbody>\n",
              "</table>\n",
              "<p>5 rows × 139 columns</p>\n",
              "</div>\n",
              "      <button class=\"colab-df-convert\" onclick=\"convertToInteractive('df-92afe986-fe5b-4c76-aa84-d3c350f50f56')\"\n",
              "              title=\"Convert this dataframe to an interactive table.\"\n",
              "              style=\"display:none;\">\n",
              "        \n",
              "  <svg xmlns=\"http://www.w3.org/2000/svg\" height=\"24px\"viewBox=\"0 0 24 24\"\n",
              "       width=\"24px\">\n",
              "    <path d=\"M0 0h24v24H0V0z\" fill=\"none\"/>\n",
              "    <path d=\"M18.56 5.44l.94 2.06.94-2.06 2.06-.94-2.06-.94-.94-2.06-.94 2.06-2.06.94zm-11 1L8.5 8.5l.94-2.06 2.06-.94-2.06-.94L8.5 2.5l-.94 2.06-2.06.94zm10 10l.94 2.06.94-2.06 2.06-.94-2.06-.94-.94-2.06-.94 2.06-2.06.94z\"/><path d=\"M17.41 7.96l-1.37-1.37c-.4-.4-.92-.59-1.43-.59-.52 0-1.04.2-1.43.59L10.3 9.45l-7.72 7.72c-.78.78-.78 2.05 0 2.83L4 21.41c.39.39.9.59 1.41.59.51 0 1.02-.2 1.41-.59l7.78-7.78 2.81-2.81c.8-.78.8-2.07 0-2.86zM5.41 20L4 18.59l7.72-7.72 1.47 1.35L5.41 20z\"/>\n",
              "  </svg>\n",
              "      </button>\n",
              "      \n",
              "  <style>\n",
              "    .colab-df-container {\n",
              "      display:flex;\n",
              "      flex-wrap:wrap;\n",
              "      gap: 12px;\n",
              "    }\n",
              "\n",
              "    .colab-df-convert {\n",
              "      background-color: #E8F0FE;\n",
              "      border: none;\n",
              "      border-radius: 50%;\n",
              "      cursor: pointer;\n",
              "      display: none;\n",
              "      fill: #1967D2;\n",
              "      height: 32px;\n",
              "      padding: 0 0 0 0;\n",
              "      width: 32px;\n",
              "    }\n",
              "\n",
              "    .colab-df-convert:hover {\n",
              "      background-color: #E2EBFA;\n",
              "      box-shadow: 0px 1px 2px rgba(60, 64, 67, 0.3), 0px 1px 3px 1px rgba(60, 64, 67, 0.15);\n",
              "      fill: #174EA6;\n",
              "    }\n",
              "\n",
              "    [theme=dark] .colab-df-convert {\n",
              "      background-color: #3B4455;\n",
              "      fill: #D2E3FC;\n",
              "    }\n",
              "\n",
              "    [theme=dark] .colab-df-convert:hover {\n",
              "      background-color: #434B5C;\n",
              "      box-shadow: 0px 1px 3px 1px rgba(0, 0, 0, 0.15);\n",
              "      filter: drop-shadow(0px 1px 2px rgba(0, 0, 0, 0.3));\n",
              "      fill: #FFFFFF;\n",
              "    }\n",
              "  </style>\n",
              "\n",
              "      <script>\n",
              "        const buttonEl =\n",
              "          document.querySelector('#df-92afe986-fe5b-4c76-aa84-d3c350f50f56 button.colab-df-convert');\n",
              "        buttonEl.style.display =\n",
              "          google.colab.kernel.accessAllowed ? 'block' : 'none';\n",
              "\n",
              "        async function convertToInteractive(key) {\n",
              "          const element = document.querySelector('#df-92afe986-fe5b-4c76-aa84-d3c350f50f56');\n",
              "          const dataTable =\n",
              "            await google.colab.kernel.invokeFunction('convertToInteractive',\n",
              "                                                     [key], {});\n",
              "          if (!dataTable) return;\n",
              "\n",
              "          const docLinkHtml = 'Like what you see? Visit the ' +\n",
              "            '<a target=\"_blank\" href=https://colab.research.google.com/notebooks/data_table.ipynb>data table notebook</a>'\n",
              "            + ' to learn more about interactive tables.';\n",
              "          element.innerHTML = '';\n",
              "          dataTable['output_type'] = 'display_data';\n",
              "          await google.colab.output.renderOutput(dataTable, element);\n",
              "          const docLink = document.createElement('div');\n",
              "          docLink.innerHTML = docLinkHtml;\n",
              "          element.appendChild(docLink);\n",
              "        }\n",
              "      </script>\n",
              "    </div>\n",
              "  </div>\n",
              "  "
            ]
          },
          "metadata": {},
          "execution_count": 37
        }
      ]
    },
    {
      "cell_type": "code",
      "source": [
        "dt = DecisionTreeClassifier()\n",
        "dt.fit(Xtrain, Ytrain)"
      ],
      "metadata": {
        "colab": {
          "base_uri": "https://localhost:8080/"
        },
        "id": "1ZJFK0Tlh6gJ",
        "outputId": "b4a6d9f7-5eea-47df-a73d-d50ba06a2658"
      },
      "execution_count": null,
      "outputs": [
        {
          "output_type": "execute_result",
          "data": {
            "text/plain": [
              "DecisionTreeClassifier()"
            ]
          },
          "metadata": {},
          "execution_count": 38
        }
      ]
    },
    {
      "cell_type": "code",
      "source": [
        "rf = RandomForestClassifier()\n",
        "rf.fit(Xtrain, Ytrain)"
      ],
      "metadata": {
        "colab": {
          "base_uri": "https://localhost:8080/"
        },
        "id": "z4V2hqUwindS",
        "outputId": "42df8a9f-098a-49b9-d8e2-9660b4874f50"
      },
      "execution_count": null,
      "outputs": [
        {
          "output_type": "execute_result",
          "data": {
            "text/plain": [
              "RandomForestClassifier()"
            ]
          },
          "metadata": {},
          "execution_count": 39
        }
      ]
    },
    {
      "cell_type": "code",
      "source": [
        "X_Pred = dt.predict(Xtest)\n",
        "XPred = dt.predict(Xtrain)\n",
        "print(\"Train Accuracy:\", metrics.accuracy_score(Ytrain,XPred))\n",
        "print(\"Test Accuracy:\", metrics.accuracy_score(Ytest,X_Pred))\n",
        "print(\"Confusion Matrix for Decision Tree:\")\n",
        "print(confusion_matrix(Ytest,X_Pred))\n",
        "print(\"Max Depth\",dt.get_depth())\n",
        "print(\"Leaf\",dt.get_n_leaves())\n",
        "print('Printing the precision and recall, among other metrics')\n",
        "print(metrics.classification_report(Ytest, X_Pred))"
      ],
      "metadata": {
        "colab": {
          "base_uri": "https://localhost:8080/"
        },
        "id": "0eLkSKQAlAnQ",
        "outputId": "8f708cea-027a-4fbf-fff5-8ad42bc26680"
      },
      "execution_count": null,
      "outputs": [
        {
          "output_type": "stream",
          "name": "stdout",
          "text": [
            "Train Accuracy: 1.0\n",
            "Test Accuracy: 0.8831862517417557\n",
            "Confusion Matrix for Decision Tree:\n",
            "[[10964  1456]\n",
            " [   53   445]]\n",
            "Max Depth 25\n",
            "Leaf 290\n",
            "Printing the precision and recall, among other metrics\n",
            "              precision    recall  f1-score   support\n",
            "\n",
            "          No       1.00      0.88      0.94     12420\n",
            "         Yes       0.23      0.89      0.37       498\n",
            "\n",
            "    accuracy                           0.88     12918\n",
            "   macro avg       0.61      0.89      0.65     12918\n",
            "weighted avg       0.97      0.88      0.91     12918\n",
            "\n"
          ]
        }
      ]
    },
    {
      "cell_type": "code",
      "source": [
        "X_Pred1 = rf.predict(Xtest)\n",
        "XPred1 = rf.predict(Xtrain)\n",
        "print(\"Train Accuracy:\", metrics.accuracy_score(Ytrain,XPred1))\n",
        "print(\"Test Accuracy:\", metrics.accuracy_score(Ytest,X_Pred1))\n",
        "print(\"Confusion Matrix for Decision Tree:\")\n",
        "print(confusion_matrix(Ytest,X_Pred1))\n",
        "print('Printing the precision and recall, among other metrics')\n",
        "print(metrics.classification_report(Ytest, X_Pred1))"
      ],
      "metadata": {
        "colab": {
          "base_uri": "https://localhost:8080/"
        },
        "id": "jftShNP3lJgb",
        "outputId": "dbe43106-07c1-423c-e6d6-09ed75e41b43"
      },
      "execution_count": null,
      "outputs": [
        {
          "output_type": "stream",
          "name": "stdout",
          "text": [
            "Train Accuracy: 0.9996665555185061\n",
            "Test Accuracy: 0.9659389998451773\n",
            "Confusion Matrix for Decision Tree:\n",
            "[[12064   356]\n",
            " [   84   414]]\n",
            "Printing the precision and recall, among other metrics\n",
            "              precision    recall  f1-score   support\n",
            "\n",
            "          No       0.99      0.97      0.98     12420\n",
            "         Yes       0.54      0.83      0.65       498\n",
            "\n",
            "    accuracy                           0.97     12918\n",
            "   macro avg       0.77      0.90      0.82     12918\n",
            "weighted avg       0.98      0.97      0.97     12918\n",
            "\n"
          ]
        }
      ]
    },
    {
      "cell_type": "code",
      "source": [
        "import time\n",
        "start_time = time.time()\n",
        "\n",
        "print(\"RandomizedSearchCV-Decision tree\")\n",
        "parameters={'min_samples_leaf' : range(10,300,10),'max_depth': \n",
        "            range(5,30,2),'criterion':['gini','entropy']}\n",
        "dt_random = RandomizedSearchCV(dt,parameters,n_iter=25,cv=5)\n",
        "dt_random.fit(Xtrain, Ytrain)\n",
        "grid_parm=dt_random.best_params_\n",
        "print(grid_parm)\n",
        "print(\"accuracy Score for Decision Tree:{0:6f}\".\n",
        "      format(dt_random.score(Xtest,Ytest)))\n",
        "\n",
        "print(\"--- %s seconds ---\" % (time.time() - start_time))"
      ],
      "metadata": {
        "colab": {
          "base_uri": "https://localhost:8080/"
        },
        "id": "3Dh8Z0sXlN5b",
        "outputId": "492403c2-8d72-4908-ce8f-09e3e0b58b42"
      },
      "execution_count": null,
      "outputs": [
        {
          "output_type": "stream",
          "name": "stdout",
          "text": [
            "RandomizedSearchCV-Decision tree\n",
            "{'min_samples_leaf': 50, 'max_depth': 13, 'criterion': 'entropy'}\n",
            "accuracy Score for Decision Tree:0.884115\n",
            "--- 2.374382257461548 seconds ---\n"
          ]
        }
      ]
    },
    {
      "cell_type": "code",
      "source": [
        "import time\n",
        "start_time = time.time()\n",
        "\n",
        "print(\"GridSearchCV-Decision tree\")\n",
        "dt_grid = GridSearchCV(dt,parameters)\n",
        "dt_grid.fit(Xtrain, Ytrain)\n",
        "grid_parm1=dt_grid.best_params_\n",
        "print(grid_parm1)\n",
        "print(\"accuracy Score for Decision Tree:{0:6f}\".\n",
        "      format(dt_grid.score(Xtest,Ytest)))\n",
        "\n",
        "print(\"--- %s seconds ---\" % (time.time() - start_time))"
      ],
      "metadata": {
        "colab": {
          "base_uri": "https://localhost:8080/"
        },
        "id": "zDszSkWUlSc1",
        "outputId": "8987249c-eb32-4798-f7ad-8888d5b16ce5"
      },
      "execution_count": null,
      "outputs": [
        {
          "output_type": "stream",
          "name": "stdout",
          "text": [
            "GridSearchCV-Decision tree\n",
            "{'criterion': 'entropy', 'max_depth': 7, 'min_samples_leaf': 30}\n",
            "accuracy Score for Decision Tree:0.897430\n",
            "--- 69.26990342140198 seconds ---\n"
          ]
        }
      ]
    },
    {
      "cell_type": "code",
      "source": [
        "dtRand = DecisionTreeClassifier(**grid_parm)\n",
        "dtGrid = DecisionTreeClassifier(**grid_parm1)\n",
        "\n",
        "dtRand.fit(Xtrain,Ytrain)\n",
        "dtRand_predict = dtRand.predict(Xtest)\n",
        "dtGrid.fit(Xtrain,Ytrain)\n",
        "dtGrid_predict = dtGrid.predict(Xtest)"
      ],
      "metadata": {
        "id": "fdZhvnWolqqM"
      },
      "execution_count": null,
      "outputs": []
    },
    {
      "cell_type": "code",
      "source": [
        "print(\"Test Accuracy:\", metrics.accuracy_score(Ytest,dtRand_predict))\n",
        "print(\"Confusion Matrix for Decision Tree:\")\n",
        "print(confusion_matrix(Ytest,dtRand_predict))\n",
        "print('Printing the precision and recall, among other metrics')\n",
        "print(metrics.classification_report(Ytest, dtRand_predict))\n",
        "clf_cv_score = cross_val_score(dtRand, Xtrain, Ytrain, cv=5, scoring=\"balanced_accuracy\")\n",
        "print(clf_cv_score)"
      ],
      "metadata": {
        "colab": {
          "base_uri": "https://localhost:8080/"
        },
        "id": "ayxgnuzylsJd",
        "outputId": "72798b7d-3f35-4a2f-eae5-647460df5331"
      },
      "execution_count": null,
      "outputs": [
        {
          "output_type": "stream",
          "name": "stdout",
          "text": [
            "Test Accuracy: 0.8841151881096145\n",
            "Confusion Matrix for Decision Tree:\n",
            "[[11255  1165]\n",
            " [  332   166]]\n",
            "Printing the precision and recall, among other metrics\n",
            "              precision    recall  f1-score   support\n",
            "\n",
            "          No       0.97      0.91      0.94     12420\n",
            "         Yes       0.12      0.33      0.18       498\n",
            "\n",
            "    accuracy                           0.88     12918\n",
            "   macro avg       0.55      0.62      0.56     12918\n",
            "weighted avg       0.94      0.88      0.91     12918\n",
            "\n",
            "[0.74615385 0.73990385 0.54375    0.5        0.57594937]\n"
          ]
        }
      ]
    },
    {
      "cell_type": "code",
      "source": [
        "print(\"Test Accuracy:\", metrics.accuracy_score(Ytest,dtGrid_predict))\n",
        "print(\"Confusion Matrix for Decision Tree:\")\n",
        "print(confusion_matrix(Ytest,dtGrid_predict))\n",
        "print('Printing the precision and recall, among other metrics')"
      ],
      "metadata": {
        "colab": {
          "base_uri": "https://localhost:8080/"
        },
        "id": "CBr0LBB9lu89",
        "outputId": "97674f53-e81d-401b-ad29-5d4579d05c7e"
      },
      "execution_count": null,
      "outputs": [
        {
          "output_type": "stream",
          "name": "stdout",
          "text": [
            "Test Accuracy: 0.8974299427155906\n",
            "Confusion Matrix for Decision Tree:\n",
            "[[11427   993]\n",
            " [  332   166]]\n",
            "Printing the precision and recall, among other metrics\n"
          ]
        }
      ]
    },
    {
      "cell_type": "code",
      "source": [
        "import time\n",
        "start_time = time.time()\n",
        "\n",
        "print(\"RandomizedSearchCV-Random forest\")\n",
        "rand_parameters={'min_samples_leaf' : range(10,100,10),'max_depth': \n",
        "            range(1,10,2),'max_features':[10,20,30],'n_estimators':[20,30,40]}\n",
        "rf_random = RandomizedSearchCV(rf,rand_parameters,n_iter=25,cv=5)\n",
        "rf_random.fit(Xtrain, Ytrain)\n",
        "grid_parm=rf_random.best_params_\n",
        "print(grid_parm)\n",
        "print(\"accuracy Score for Decision Tree:{0:6f}\".\n",
        "      format(rf_random.score(Xtest,Ytest)))\n",
        "\n",
        "print(\"--- %s seconds ---\" % (time.time() - start_time))"
      ],
      "metadata": {
        "colab": {
          "base_uri": "https://localhost:8080/"
        },
        "id": "misXPJWHlzc0",
        "outputId": "50e3f90a-ae14-46be-a05c-a92e54ded8d0"
      },
      "execution_count": null,
      "outputs": [
        {
          "output_type": "stream",
          "name": "stdout",
          "text": [
            "RandomizedSearchCV-Random forest\n",
            "{'n_estimators': 30, 'min_samples_leaf': 10, 'max_features': 30, 'max_depth': 7}\n",
            "accuracy Score for Decision Tree:0.929169\n",
            "--- 10.145515441894531 seconds ---\n"
          ]
        }
      ]
    },
    {
      "cell_type": "code",
      "source": [
        "import time\n",
        "start_time = time.time()\n",
        "\n",
        "print(\"GridSearchCV-Random Forest\")\n",
        "rf_grid = GridSearchCV(rf,rand_parameters)\n",
        "rf_grid.fit(Xtrain, Ytrain)\n",
        "grid_parm1=rf_grid.best_params_\n",
        "print(grid_parm1)\n",
        "print(\"accuracy Score for Decision Tree:{0:6f}\".\n",
        "      format(rf_grid.score(Xtest,Ytest)))\n",
        "\n",
        "print(\"--- %s seconds ---\" % (time.time() - start_time))"
      ],
      "metadata": {
        "colab": {
          "base_uri": "https://localhost:8080/"
        },
        "id": "zrGDts-LmDNW",
        "outputId": "011b7f6f-84d7-49fd-a8db-038924e3ddee"
      },
      "execution_count": null,
      "outputs": [
        {
          "output_type": "stream",
          "name": "stdout",
          "text": [
            "GridSearchCV-Random Forest\n",
            "{'max_depth': 9, 'max_features': 30, 'min_samples_leaf': 10, 'n_estimators': 30}\n",
            "accuracy Score for Decision Tree:0.928162\n",
            "--- 138.96387815475464 seconds ---\n"
          ]
        }
      ]
    },
    {
      "cell_type": "code",
      "source": [
        "rfRand = RandomForestClassifier(**grid_parm)\n",
        "rfGrid = RandomForestClassifier(**grid_parm1)\n",
        "\n",
        "rfRand.fit(Xtrain,Ytrain)\n",
        "rfRand_predict = rfRand.predict(Xtest)\n",
        "rfGrid.fit(Xtrain,Ytrain)\n",
        "rfGrid_predict = rfGrid.predict(Xtest)"
      ],
      "metadata": {
        "id": "kKeTR3DFm4BI"
      },
      "execution_count": null,
      "outputs": []
    },
    {
      "cell_type": "code",
      "source": [
        "print(\"Test Accuracy:\", metrics.accuracy_score(Ytest,rfRand_predict))\n",
        "print(\"Confusion Matrix for Decision Tree:\")\n",
        "print(confusion_matrix(Ytest,rfRand_predict))\n",
        "print('Printing the precision and recall, among other metrics')\n",
        "print(metrics.classification_report(Ytest, rfRand_predict))\n",
        "clf_cv_score = cross_val_score(rfRand, Xtrain, Ytrain, cv=5, scoring=\"balanced_accuracy\")\n",
        "print(clf_cv_score)"
      ],
      "metadata": {
        "colab": {
          "base_uri": "https://localhost:8080/"
        },
        "id": "RDsytBxwnCcB",
        "outputId": "4884bbe9-b197-4228-c23b-70f5ab92138f"
      },
      "execution_count": null,
      "outputs": [
        {
          "output_type": "stream",
          "name": "stdout",
          "text": [
            "Test Accuracy: 0.9265366155751664\n",
            "Confusion Matrix for Decision Tree:\n",
            "[[11836   584]\n",
            " [  365   133]]\n",
            "Printing the precision and recall, among other metrics\n",
            "              precision    recall  f1-score   support\n",
            "\n",
            "          No       0.97      0.95      0.96     12420\n",
            "         Yes       0.19      0.27      0.22       498\n",
            "\n",
            "    accuracy                           0.93     12918\n",
            "   macro avg       0.58      0.61      0.59     12918\n",
            "weighted avg       0.94      0.93      0.93     12918\n",
            "\n",
            "[0.74615385 0.72740385 0.5375     0.5        0.5443038 ]\n"
          ]
        }
      ]
    },
    {
      "cell_type": "code",
      "source": [
        "print(\"Test Accuracy:\", metrics.accuracy_score(Ytest,rfGrid_predict))\n",
        "print(\"Confusion Matrix for Decision Tree:\")\n",
        "print(confusion_matrix(Ytest,rfGrid_predict))\n",
        "print('Printing the precision and recall, among other metrics')\n",
        "print(metrics.classification_report(Ytest, rfGrid_predict))"
      ],
      "metadata": {
        "colab": {
          "base_uri": "https://localhost:8080/"
        },
        "id": "3yqRW1GmnHTc",
        "outputId": "83f520a8-f360-48e0-9d48-3e13fceed981"
      },
      "execution_count": null,
      "outputs": [
        {
          "output_type": "stream",
          "name": "stdout",
          "text": [
            "Test Accuracy: 0.9272333178510606\n",
            "Confusion Matrix for Decision Tree:\n",
            "[[11847   573]\n",
            " [  367   131]]\n",
            "Printing the precision and recall, among other metrics\n",
            "              precision    recall  f1-score   support\n",
            "\n",
            "          No       0.97      0.95      0.96     12420\n",
            "         Yes       0.19      0.26      0.22       498\n",
            "\n",
            "    accuracy                           0.93     12918\n",
            "   macro avg       0.58      0.61      0.59     12918\n",
            "weighted avg       0.94      0.93      0.93     12918\n",
            "\n"
          ]
        }
      ]
    }
  ]
}